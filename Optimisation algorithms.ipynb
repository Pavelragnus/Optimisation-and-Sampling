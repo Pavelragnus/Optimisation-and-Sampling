{
 "cells": [
  {
   "cell_type": "markdown",
   "id": "c5b9f9d3-cc47-4cf7-8d8a-f6878924159f",
   "metadata": {},
   "source": [
    "# Problem 1"
   ]
  },
  {
   "cell_type": "markdown",
   "id": "eb6cd00d-8084-48f9-a221-228c8d8882bd",
   "metadata": {},
   "source": [
    "Implement the golden section search algorithm. Using your favourite programming language create a function (or whatever) that takes following paramters:\n",
    "\n",
    "- a black-box function f (assuming that it’s strictly decreasing and then strictly increasing) taking 1-dim argument, use \n",
    " as an example;   \n",
    "- two floating point values: lb for lower bound of desired point of minimum and ub — for upper bound;    \n",
    "- the allowed absolute error for returned value and returns the function argument value at which the the function takes the minimum value in accordance with precision requiered.    "
   ]
  },
  {
   "cell_type": "code",
   "execution_count": 167,
   "id": "f38ccc39-3206-4ffd-ab52-649231531748",
   "metadata": {},
   "outputs": [],
   "source": [
    "def f(x):\n",
    "    return x**2"
   ]
  },
  {
   "cell_type": "code",
   "execution_count": 175,
   "id": "bc731278-d546-4b70-8ad3-fff6070de677",
   "metadata": {},
   "outputs": [],
   "source": [
    "def golden_section_search(f, lb, ub, ae):\n",
    "    ρ = (1 + 5**0.5) / 2 - 1\n",
    "    d = ρ * ub + (1 - ρ) * lb\n",
    "    yd = f(d)\n",
    "    e = 1\n",
    "    while e >= ae:\n",
    "        c = ρ * lb + (1 - ρ) * ub\n",
    "        yc = f(c)\n",
    "        if yc < yd:\n",
    "            ub, d, yd = d, c, yc\n",
    "            e=((1-c)*(abs((ub-lb)/yc)))*100\n",
    "        else:\n",
    "            lb, ub = b, c\n",
    "            e=((1-c)*(abs((ub-lb)/yd)))*100\n",
    "    print ((lb, ub) if lb < ub else (ub, lb))\n",
    "    return (lb+ub)/2"
   ]
  },
  {
   "cell_type": "code",
   "execution_count": 178,
   "id": "049ea63c-fbd4-437e-b495-cec70cfc3b37",
   "metadata": {},
   "outputs": [
    {
     "name": "stdout",
     "output_type": "stream",
     "text": [
      "(0.5, 0.5040653093778917)\n",
      "0.5020326546889459\n"
     ]
    }
   ],
   "source": [
    "print(golden_section_search(f, 0.5, 1.0, 1))"
   ]
  },
  {
   "cell_type": "markdown",
   "id": "083da478-ef39-4c82-84fc-0fb6782aa016",
   "metadata": {},
   "source": [
    "# Problem 2"
   ]
  },
  {
   "cell_type": "markdown",
   "id": "ec90040b-be0a-4740-b518-5c377b323040",
   "metadata": {},
   "source": [
    "Consider Himmelblau’s function:\n",
    "- Find all local minima analytically by constructing sufficient condition on optimiality.\n"
   ]
  },
  {
   "attachments": {
    "80fe5395-73d9-4544-b4eb-20a139ca8a90.png": {
     "image/png": "[encoded data removed]"
    }
   },
   "cell_type": "markdown",
   "id": "b43c6498-21e2-4463-b8b6-69b926170f0f",
   "metadata": {},
   "source": [
    "![image.png](attachment:80fe5395-73d9-4544-b4eb-20a139ca8a90.png)"
   ]
  },
  {
   "cell_type": "code",
   "execution_count": 14,
   "id": "a83f8b7b-0163-4779-80fe-673a06484afa",
   "metadata": {},
   "outputs": [],
   "source": [
    "from sympy import symbols, diff"
   ]
  },
  {
   "cell_type": "code",
   "execution_count": 20,
   "id": "a73c84a5-7bba-4058-a16c-0e9d6452d6a9",
   "metadata": {},
   "outputs": [],
   "source": [
    "def f(x, y):\n",
    "    return (x**2 + y - 11)**2 + (x+y**2 - 7)**2"
   ]
  },
  {
   "cell_type": "markdown",
   "id": "33a0d393-1eb8-4653-ae3e-3a6fd98495b3",
   "metadata": {},
   "source": [
    "**Firstly let's find the derivatives of Himmelblau’s function**"
   ]
  },
  {
   "cell_type": "code",
   "execution_count": 15,
   "id": "cd3c8497-1673-4d68-a098-c5f25ddccf6e",
   "metadata": {},
   "outputs": [
    {
     "name": "stdout",
     "output_type": "stream",
     "text": [
      "4*x*(x**2 + y - 11) + 2*x + 2*y**2 - 14\n",
      "2*x**2 + 4*y*(x + y**2 - 7) + 2*y - 22\n"
     ]
    }
   ],
   "source": [
    "x, y = symbols('x y')\n",
    "f = (x**2 + y - 11)**2 + (x+y**2 - 7)**2\n",
    "f_partial_x = diff(f, x)\n",
    "f_partial_y = diff(f, y)\n",
    "print(f_partial_x)\n",
    "print(f_partial_y)"
   ]
  },
  {
   "cell_type": "code",
   "execution_count": 3,
   "id": "4ed23312-7d48-4494-91dc-d4ba29ae8acb",
   "metadata": {},
   "outputs": [],
   "source": [
    "import sympy as sym\n",
    "sym.init_printing()\n",
    "x,y= sym.symbols('x,y')"
   ]
  },
  {
   "cell_type": "markdown",
   "id": "e8a4f04c-136a-48a9-ab39-e5ebcef98f20",
   "metadata": {},
   "source": [
    "**Then solve the system of equations, when the derivaties are equal to 0**"
   ]
  },
  {
   "cell_type": "code",
   "execution_count": 55,
   "id": "13ed6bf7-570b-4809-987c-26a4775b2669",
   "metadata": {},
   "outputs": [],
   "source": [
    "from sympy import Symbol, nsolve, solve, nonlinsolve, rsolve\n",
    "from sympy.solvers.solvers import unrad\n",
    "from sympy.abc import x\n",
    "from sympy import sqrt, Rational, root\n",
    "import sympy\n",
    "from mpmath import *\n",
    "mp.dps = 15\n",
    "x = Symbol('x')\n",
    "y = Symbol('y')\n",
    "f = sym.Eq(4*x*(x**2 + y - 11) + 2*x + 2*y**2 - 14, 0.0)\n",
    "g = sym.Eq(2*x**2 + 4*y*(x + y**2 - 7) + 2*y - 22, 0.0)\n",
    "sol = solve([f,g],(x,y))"
   ]
  },
  {
   "cell_type": "code",
   "execution_count": 62,
   "id": "2f87c3d4-4e99-4ed6-b609-132e593576da",
   "metadata": {},
   "outputs": [
    {
     "name": "stdout",
     "output_type": "stream",
     "text": [
      "[(3, 2), ((-495057628370223861931520872762462249121894539790138970*sqrt(6303) - 4870479408313127062830355639493104228716972612257815917*2**(1/3)*I*(317 + 3*sqrt(6303)*I)**(2/3) - 158281314441521881059095371226899838034197238333481145658*I - 406145046242831468108010255682197970027023667721404976*2**(2/3)*sqrt(6303)*(317 + 3*sqrt(6303)*I)**(1/3) + 1828746360281109769284180128966426435544957620821148880*2**(2/3)*I*(317 + 3*sqrt(6303)*I)**(1/3) + 33221251664738294426485886763715577381947062679278851*2**(1/3)*sqrt(6303)*(317 + 3*sqrt(6303)*I)**(2/3))/(6*(82509604728370643655253478793743708186982423298356495*sqrt(6303) + 26380219073586980176515895204483306339032873055580190943*I)), -2/3 + 34/(9*(317/54 + sqrt(6303)*I/18)**(1/3)) + (317/54 + sqrt(6303)*I/18)**(1/3)), ((-990115256740447723863041745524924498243789079580277940*sqrt(6303) - 316562628883043762118190742453799676068394476666962291316*I - 33221251664738294426485886763715577381947062679278851*2**(1/3)*sqrt(6303)*(317 + 3*sqrt(6303)*I)**(2/3) - 1828746360281109769284180128966426435544957620821148880*2**(2/3)*I*(317 + 3*sqrt(6303)*I)**(1/3) + 1828746360281109769284180128966426435544957620821148880*2**(2/3)*sqrt(3)*(317 + 3*sqrt(6303)*I)**(1/3) + 406145046242831468108010255682197970027023667721404976*2**(2/3)*sqrt(6303)*(317 + 3*sqrt(6303)*I)**(1/3) + 4870479408313127062830355639493104228716972612257815917*2**(1/3)*sqrt(3)*(317 + 3*sqrt(6303)*I)**(2/3) + 99663754994214883279457660291146732145841188037836553*2**(1/3)*sqrt(2101)*I*(317 + 3*sqrt(6303)*I)**(2/3) + 4870479408313127062830355639493104228716972612257815917*2**(1/3)*I*(317 + 3*sqrt(6303)*I)**(2/3) + 1218435138728494404324030767046593910081071003164214928*2**(2/3)*sqrt(2101)*I*(317 + 3*sqrt(6303)*I)**(1/3))/(12*(82509604728370643655253478793743708186982423298356495*sqrt(6303) + 26380219073586980176515895204483306339032873055580190943*I)), -2/3 + (-1/2 - sqrt(3)*I/2)*(317/54 + sqrt(6303)*I/18)**(1/3) + 34/(9*(-1/2 - sqrt(3)*I/2)*(317/54 + sqrt(6303)*I/18)**(1/3))), ((-990115256740447723863041745524924498243789079580277940*sqrt(6303) - 1218435138728494404324030767046593910081071003164214928*2**(2/3)*sqrt(2101)*I*(317 + 3*sqrt(6303)*I)**(1/3) - 316562628883043762118190742453799676068394476666962291316*I - 99663754994214883279457660291146732145841188037836553*2**(1/3)*sqrt(2101)*I*(317 + 3*sqrt(6303)*I)**(2/3) - 4870479408313127062830355639493104228716972612257815917*2**(1/3)*sqrt(3)*(317 + 3*sqrt(6303)*I)**(2/3) - 33221251664738294426485886763715577381947062679278851*2**(1/3)*sqrt(6303)*(317 + 3*sqrt(6303)*I)**(2/3) - 1828746360281109769284180128966426435544957620821148880*2**(2/3)*I*(317 + 3*sqrt(6303)*I)**(1/3) - 1828746360281109769284180128966426435544957620821148880*2**(2/3)*sqrt(3)*(317 + 3*sqrt(6303)*I)**(1/3) + 406145046242831468108010255682197970027023667721404976*2**(2/3)*sqrt(6303)*(317 + 3*sqrt(6303)*I)**(1/3) + 4870479408313127062830355639493104228716972612257815917*2**(1/3)*I*(317 + 3*sqrt(6303)*I)**(2/3))/(12*(82509604728370643655253478793743708186982423298356495*sqrt(6303) + 26380219073586980176515895204483306339032873055580190943*I)), -2/3 + 34/(9*(-1/2 + sqrt(3)*I/2)*(317/54 + sqrt(6303)*I/18)**(1/3)) + (-1/2 + sqrt(3)*I/2)*(317/54 + sqrt(6303)*I/18)**(1/3))]\n"
     ]
    }
   ],
   "source": [
    "print(sol)\n",
    "    "
   ]
  },
  {
   "cell_type": "markdown",
   "id": "33ef5a89-634a-4d56-8bde-1dc26a2846a0",
   "metadata": {},
   "source": [
    "Answer: so we have four pairs of roots with locan minima"
   ]
  },
  {
   "cell_type": "code",
   "execution_count": 9,
   "id": "f3ff36da-12d6-49b0-98e5-991f485d20ea",
   "metadata": {},
   "outputs": [
    {
     "name": "stdout",
     "output_type": "stream",
     "text": [
      "(3, 2)\n",
      "\n",
      "((-495057628370223861931520872762462249121894539790138970*sqrt(6303) - 4870479408313127062830355639493104228716972612257815917*2**(1/3)*I*(317 + 3*sqrt(6303)*I)**(2/3) - 158281314441521881059095371226899838034197238333481145658*I - 406145046242831468108010255682197970027023667721404976*2**(2/3)*sqrt(6303)*(317 + 3*sqrt(6303)*I)**(1/3) + 1828746360281109769284180128966426435544957620821148880*2**(2/3)*I*(317 + 3*sqrt(6303)*I)**(1/3) + 33221251664738294426485886763715577381947062679278851*2**(1/3)*sqrt(6303)*(317 + 3*sqrt(6303)*I)**(2/3))/(6*(82509604728370643655253478793743708186982423298356495*sqrt(6303) + 26380219073586980176515895204483306339032873055580190943*I)), -2/3 + 34/(9*(317/54 + sqrt(6303)*I/18)**(1/3)) + (317/54 + sqrt(6303)*I/18)**(1/3))\n",
      "\n",
      "((-990115256740447723863041745524924498243789079580277940*sqrt(6303) - 316562628883043762118190742453799676068394476666962291316*I - 33221251664738294426485886763715577381947062679278851*2**(1/3)*sqrt(6303)*(317 + 3*sqrt(6303)*I)**(2/3) - 1828746360281109769284180128966426435544957620821148880*2**(2/3)*I*(317 + 3*sqrt(6303)*I)**(1/3) + 1828746360281109769284180128966426435544957620821148880*2**(2/3)*sqrt(3)*(317 + 3*sqrt(6303)*I)**(1/3) + 406145046242831468108010255682197970027023667721404976*2**(2/3)*sqrt(6303)*(317 + 3*sqrt(6303)*I)**(1/3) + 4870479408313127062830355639493104228716972612257815917*2**(1/3)*sqrt(3)*(317 + 3*sqrt(6303)*I)**(2/3) + 99663754994214883279457660291146732145841188037836553*2**(1/3)*sqrt(2101)*I*(317 + 3*sqrt(6303)*I)**(2/3) + 4870479408313127062830355639493104228716972612257815917*2**(1/3)*I*(317 + 3*sqrt(6303)*I)**(2/3) + 1218435138728494404324030767046593910081071003164214928*2**(2/3)*sqrt(2101)*I*(317 + 3*sqrt(6303)*I)**(1/3))/(12*(82509604728370643655253478793743708186982423298356495*sqrt(6303) + 26380219073586980176515895204483306339032873055580190943*I)), -2/3 + (-1/2 - sqrt(3)*I/2)*(317/54 + sqrt(6303)*I/18)**(1/3) + 34/(9*(-1/2 - sqrt(3)*I/2)*(317/54 + sqrt(6303)*I/18)**(1/3)))\n",
      "\n",
      "((-990115256740447723863041745524924498243789079580277940*sqrt(6303) - 1218435138728494404324030767046593910081071003164214928*2**(2/3)*sqrt(2101)*I*(317 + 3*sqrt(6303)*I)**(1/3) - 316562628883043762118190742453799676068394476666962291316*I - 99663754994214883279457660291146732145841188037836553*2**(1/3)*sqrt(2101)*I*(317 + 3*sqrt(6303)*I)**(2/3) - 4870479408313127062830355639493104228716972612257815917*2**(1/3)*sqrt(3)*(317 + 3*sqrt(6303)*I)**(2/3) - 33221251664738294426485886763715577381947062679278851*2**(1/3)*sqrt(6303)*(317 + 3*sqrt(6303)*I)**(2/3) - 1828746360281109769284180128966426435544957620821148880*2**(2/3)*I*(317 + 3*sqrt(6303)*I)**(1/3) - 1828746360281109769284180128966426435544957620821148880*2**(2/3)*sqrt(3)*(317 + 3*sqrt(6303)*I)**(1/3) + 406145046242831468108010255682197970027023667721404976*2**(2/3)*sqrt(6303)*(317 + 3*sqrt(6303)*I)**(1/3) + 4870479408313127062830355639493104228716972612257815917*2**(1/3)*I*(317 + 3*sqrt(6303)*I)**(2/3))/(12*(82509604728370643655253478793743708186982423298356495*sqrt(6303) + 26380219073586980176515895204483306339032873055580190943*I)), -2/3 + 34/(9*(-1/2 + sqrt(3)*I/2)*(317/54 + sqrt(6303)*I/18)**(1/3)) + (-1/2 + sqrt(3)*I/2)*(317/54 + sqrt(6303)*I/18)**(1/3))\n"
     ]
    }
   ],
   "source": [
    "print(*sol, sep = '\\n\\n')"
   ]
  },
  {
   "cell_type": "markdown",
   "id": "c8d34088-7255-4353-b6f2-59e1ba7cbe24",
   "metadata": {},
   "source": [
    "**Three pairs of them are complex numbers**"
   ]
  },
  {
   "cell_type": "markdown",
   "id": "13f6898c-6222-4da0-a806-e9fc2662279f",
   "metadata": {},
   "source": [
    "# Problem 3"
   ]
  },
  {
   "cell_type": "markdown",
   "id": "7e3549e5-063e-4f37-a497-7c5a7b95cbc3",
   "metadata": {},
   "source": [
    "$f(x, y) = (x^2 + y - 11)^2 + (x+y^2 - 7)^2$"
   ]
  },
  {
   "cell_type": "markdown",
   "id": "733e4e79-5670-441b-bb7d-ffce4f8115ab",
   "metadata": {},
   "source": [
    "$g(x,y) = y-x^2$   \n"
   ]
  },
  {
   "cell_type": "markdown",
   "id": "891db053-8611-4500-a831-41871677907f",
   "metadata": {},
   "source": [
    "**Begin by writing the Lagrangian function:**    \n",
    "$\\mathscr{L(x, y, \\lambda)} = (x^2 + y - 11)^2 + (x+y^2 - 7)^2 - \\lambda(y-x^2)$"
   ]
  },
  {
   "cell_type": "markdown",
   "id": "5767ebea-3795-413f-92db-6799fbe7953f",
   "metadata": {},
   "source": [
    "**Now let's find partial derivatives**"
   ]
  },
  {
   "cell_type": "code",
   "execution_count": 23,
   "id": "cf3e1b52-2725-48c2-958e-95bb3df0cd68",
   "metadata": {},
   "outputs": [
    {
     "name": "stdout",
     "output_type": "stream",
     "text": [
      "2*l*x + 4*x*(x**2 + y - 11) + 2*x + 2*y**2 - 14\n",
      "-l + 2*x**2 + 4*y*(x + y**2 - 7) + 2*y - 22\n",
      "x**2 - y\n"
     ]
    }
   ],
   "source": [
    "from sympy import symbols, diff\n",
    "x, y, l = symbols('x y l', real=True)\n",
    "\n",
    "f = (x**2 + y - 11)**2 + (x+y**2 - 7)**2 - l*(y-x**2)\n",
    "f_partial_x = diff(f, x)\n",
    "f_partial_y = diff(f, y)\n",
    "f_partial_l = diff(f, l)\n",
    "print(f_partial_x)\n",
    "print(f_partial_y)\n",
    "print(f_partial_l)"
   ]
  },
  {
   "cell_type": "code",
   "execution_count": 166,
   "id": "e7ea986a-de12-4e83-ba33-4efde82d7f0b",
   "metadata": {},
   "outputs": [
    {
     "data": {
      "image/png": "[encoded data removed]",
      "text/plain": [
       "<Figure size 640x480 with 1 Axes>"
      ]
     },
     "metadata": {},
     "output_type": "display_data"
    }
   ],
   "source": [
    "import matplotlib.pyplot\n",
    "from numpy import arange, meshgrid, sqrt\n",
    "delta = 0.025\n",
    "x, y = meshgrid(\n",
    "    arange(-3, 3, delta),\n",
    "    arange(-3, 3, delta)\n",
    ")\n",
    "matplotlib.pyplot.contour(\n",
    "    x, y,\n",
    "    (x**2 + y - 11)**2 + (x+y**2 - 7)**2,\n",
    "    [171.132464275502]\n",
    ")\n",
    "matplotlib.pyplot.contour(\n",
    "    x, y,\n",
    "    y-x**2,\n",
    "    [0]\n",
    ")\n",
    "matplotlib.pyplot.show()"
   ]
  },
  {
   "cell_type": "markdown",
   "id": "db81d461-46f5-4d34-9ab2-5b92b487289b",
   "metadata": {},
   "source": [
    "**Partial derivatives to 0, and calculate the equation system with respect to x, y, and l(Lagrandge multiplyer)**"
   ]
  },
  {
   "cell_type": "code",
   "execution_count": 92,
   "id": "81431f0d-529c-4d74-bcca-7a03b7a13164",
   "metadata": {},
   "outputs": [
    {
     "name": "stdout",
     "output_type": "stream",
     "text": [
      "Matrix([[-0.160780134712980], [0.0258502517183239], [-22.6369617728294]])\n"
     ]
    }
   ],
   "source": [
    "from sympy import Symbol, nsolve, solve, nonlinsolve\n",
    "import sympy\n",
    "from mpmath import *\n",
    "mp.dps = 15\n",
    "x = Symbol('x')\n",
    "y = Symbol('y')\n",
    "l = Symbol('l')\n",
    "f1 = 2*l*x + 4*x*(x**2 + y - 11) + 2*x + 2*y**2 - 14\n",
    "f2 = -l + 2*x**2 + 4*y*(x + y**2 - 7) + 2*y - 22\n",
    "f3 = x**2 - y\n",
    "print(nsolve((f1, f2, f3), (x, y, l), (0, 0, 0)))"
   ]
  },
  {
   "cell_type": "markdown",
   "id": "dda25181-d0a7-43d0-ad07-27f4d7d8728b",
   "metadata": {},
   "source": [
    "**So find global minimum**"
   ]
  },
  {
   "cell_type": "code",
   "execution_count": 93,
   "id": "85af2430-3262-424b-a963-9549e799fddc",
   "metadata": {},
   "outputs": [],
   "source": [
    "x = -0.160780134712980\n",
    "y = 0.0258502517183239\n",
    "global_minimum = (x**2 + y - 11)**2 + (x+y**2 - 7)**2"
   ]
  },
  {
   "cell_type": "code",
   "execution_count": 94,
   "id": "b7cbb355-ea94-4963-8aaf-de10d1b3f48e",
   "metadata": {},
   "outputs": [
    {
     "data": {
      "image/png": "[encoded data removed]",
      "text/latex": [
       "$\\displaystyle 171.132464275502$"
      ],
      "text/plain": [
       "171.1324642755016"
      ]
     },
     "execution_count": 94,
     "metadata": {},
     "output_type": "execute_result"
    }
   ],
   "source": [
    "global_minimum"
   ]
  },
  {
   "cell_type": "markdown",
   "id": "34975645-d4dc-44a0-abb3-c84f85d380ee",
   "metadata": {},
   "source": [
    "**Answer:171.132464275502**"
   ]
  }
 ],
 "metadata": {
  "kernelspec": {
   "display_name": "Python 3 (ipykernel)",
   "language": "python",
   "name": "python3"
  },
  "language_info": {
   "codemirror_mode": {
    "name": "ipython",
    "version": 3
   },
   "file_extension": ".py",
   "mimetype": "text/x-python",
   "name": "python",
   "nbconvert_exporter": "python",
   "pygments_lexer": "ipython3",
   "version": "3.11.9"
  }
 },
 "nbformat": 4,
 "nbformat_minor": 5
}
